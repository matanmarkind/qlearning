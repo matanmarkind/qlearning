{
 "cells": [
  {
   "cell_type": "code",
   "execution_count": 1,
   "metadata": {},
   "outputs": [],
   "source": [
    "import numpy as np\n",
    "from collections import defaultdict\n",
    "from RingBuffer import RingBuf, WeightedRingBuf"
   ]
  },
  {
   "cell_type": "code",
   "execution_count": 2,
   "metadata": {},
   "outputs": [],
   "source": [
    "def make_hist(iterable):\n",
    "    hist = defaultdict(int)\n",
    "    for i in iterable:\n",
    "        hist[i] += 1\n",
    "    return dict(hist)"
   ]
  },
  {
   "cell_type": "markdown",
   "metadata": {},
   "source": [
    "### Test plain ring buffer.\n",
    "\n",
    "Test that the RingBuf overwrites entries; 'd' should replace 'a'. \n",
    "\n",
    "Also show that can handle list accessing with wraparound indexing."
   ]
  },
  {
   "cell_type": "code",
   "execution_count": 3,
   "metadata": {},
   "outputs": [
    {
     "name": "stdout",
     "output_type": "stream",
     "text": [
      "['d', 'b', 'c', 'd']\n"
     ]
    }
   ],
   "source": [
    "rbuf = RingBuf(3)\n",
    "rbuf.append('a')\n",
    "rbuf.append('b')\n",
    "rbuf.append('c')\n",
    "rbuf.append('d')\n",
    "res = rbuf[[0, 1, 2, 3]]\n",
    "print(res)\n",
    "assert res == ['d', 'b', 'c', 'd'], 'ERROR'"
   ]
  },
  {
   "cell_type": "markdown",
   "metadata": {},
   "source": [
    "Try to sample from the buffer. Do this many times to see that each element appears about the same number of times."
   ]
  },
  {
   "cell_type": "code",
   "execution_count": 4,
   "metadata": {},
   "outputs": [
    {
     "name": "stdout",
     "output_type": "stream",
     "text": [
      "{'b': 301, 'd': 313, 'c': 286}\n"
     ]
    }
   ],
   "source": [
    "eles = list()\n",
    "for i in range(900):\n",
    "    eles += rbuf.sample(1)\n",
    "hist = make_hist(eles)\n",
    "print(hist)\n",
    "for k,v in hist.items():\n",
    "    assert abs(v - 300) < 50, \"ERROR: Sampling seems non-uniform.\""
   ]
  },
  {
   "cell_type": "markdown",
   "metadata": {},
   "source": [
    "### Test weighted ring buffer.\n",
    "\n",
    "Requires a class that has some writeable property weight."
   ]
  },
  {
   "cell_type": "code",
   "execution_count": 5,
   "metadata": {},
   "outputs": [],
   "source": [
    "class W():\n",
    "    def __init__(self, weight, name):\n",
    "        self.weight = weight\n",
    "        self.name = name\n",
    "    def __str__(self):\n",
    "        return 'weight=' + str(self.weight) + ' name=' + str(self.name)\n",
    "a = W(.3, 'a')\n",
    "b = W(0, 'b')\n",
    "c = W(.5, 'c')\n",
    "d = W(3.4, 'd')"
   ]
  },
  {
   "cell_type": "markdown",
   "metadata": {},
   "source": [
    "Test that the WeightedRingBuf overwrites entries; 'd' should replace 'a'.\n",
    "\n",
    "Also show that can handle list accessing with wraparound indexing."
   ]
  },
  {
   "cell_type": "code",
   "execution_count": 6,
   "metadata": {},
   "outputs": [],
   "source": [
    "wbuf = WeightedRingBuf(3)\n",
    "wbuf.append(a)\n",
    "wbuf.append(b)\n",
    "wbuf.append(c)\n",
    "wbuf.append(d)\n",
    "assert wbuf[[0, 1, 2, 3]] == [d, b, c, d], 'ERROR'"
   ]
  },
  {
   "cell_type": "markdown",
   "metadata": {},
   "source": [
    "Test that sampling is done in proportion to the weights of the elements. Sampling returns a unique set of ids, so we repeatedly sample."
   ]
  },
  {
   "cell_type": "code",
   "execution_count": 7,
   "metadata": {},
   "outputs": [
    {
     "name": "stdout",
     "output_type": "stream",
     "text": [
      "{'d': 884, 'c': 116}\n"
     ]
    }
   ],
   "source": [
    "ids = list()\n",
    "for i in range(1000):\n",
    "    ids += wbuf.sample(1)\n",
    "hist = make_hist([w.name for w in wbuf[ids]])\n",
    "net_weight = 0 + .5 + 3.4  # sum of weights we are leabing in wbuf\n",
    "\n",
    "assert set(hist.keys()) == {'c', 'd'}, \\\n",
    "    \"'a' should be overwritten, 'b' has 0 weight: \" + str(hist.keys())\n",
    "assert abs(hist['c']/1000 - .5/net_weight) < .1, \\\n",
    "    'Improper sampling: ' + str(hist)\n",
    "assert abs(hist['d']/1000 - 3.4/net_weight) < .1, \\\n",
    "    'Improper sampling: ' + str(hist)\n",
    "print(hist)"
   ]
  },
  {
   "cell_type": "markdown",
   "metadata": {},
   "source": [
    "Test Exclusion"
   ]
  },
  {
   "cell_type": "code",
   "execution_count": 8,
   "metadata": {},
   "outputs": [
    {
     "name": "stdout",
     "output_type": "stream",
     "text": [
      "{'c': 1000}\n"
     ]
    }
   ],
   "source": [
    "ids = list()\n",
    "for i in range(1000):\n",
    "    ids += wbuf.sample(1, exclude = {3})\n",
    "hist = make_hist([w.name for w in wbuf[ids]])\n",
    "\n",
    "assert set(hist.keys()) == set('c'), 'Exclusion failure: ' + str(hist)\n",
    "print(hist)"
   ]
  },
  {
   "cell_type": "markdown",
   "metadata": {},
   "source": [
    "Change the weight of 'b' to be 1.\n",
    "3 and retest sampling "
   ]
  },
  {
   "cell_type": "code",
   "execution_count": 9,
   "metadata": {},
   "outputs": [
    {
     "name": "stdout",
     "output_type": "stream",
     "text": [
      "{'b': 255, 'd': 640, 'c': 105}\n"
     ]
    }
   ],
   "source": [
    "wbuf.update_weight(1, 1.3)  # b's weight goes from 0 ==> 1.3\n",
    "net_weight = 1.3 + .5 + 3.4\n",
    "\n",
    "ids = list()\n",
    "for i in range(1000):\n",
    "    ids += wbuf.sample(1)\n",
    "hist = make_hist([w.name for w in wbuf[ids]])\n",
    "\n",
    "assert set(hist.keys()) == {'b', 'c', 'd'}, str(hist.keys())\n",
    "assert abs(hist['b']/1000 - 1.3/net_weight) < .1, \\\n",
    "    'Improper sampling: ' + str(hist)\n",
    "assert abs(hist['c']/1000 - .5/net_weight) < .1, \\\n",
    "    'Improper sampling: ' + str(hist)\n",
    "assert abs(hist['d']/1000 - 3.4/net_weight) < .1, \\\n",
    "    'Improper sampling: ' + str(hist)\n",
    "print(hist)"
   ]
  }
 ],
 "metadata": {
  "kernelspec": {
   "display_name": "Python 3",
   "language": "python",
   "name": "python3"
  },
  "language_info": {
   "codemirror_mode": {
    "name": "ipython",
    "version": 3
   },
   "file_extension": ".py",
   "mimetype": "text/x-python",
   "name": "python",
   "nbconvert_exporter": "python",
   "pygments_lexer": "ipython3",
   "version": "3.5.2"
  }
 },
 "nbformat": 4,
 "nbformat_minor": 2
}
