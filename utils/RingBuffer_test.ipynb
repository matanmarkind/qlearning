{
 "cells": [
  {
   "cell_type": "code",
   "execution_count": 1,
   "metadata": {},
   "outputs": [],
   "source": [
    "import numpy as np\n",
    "from collections import defaultdict\n",
    "from RingBuffer import RingBuf, WeightedRingBuf"
   ]
  },
  {
   "cell_type": "code",
   "execution_count": 2,
   "metadata": {},
   "outputs": [],
   "source": [
    "def make_hist(iterable):\n",
    "    hist = defaultdict(int)\n",
    "    for i in iterable:\n",
    "        hist[i] += 1\n",
    "    return dict(hist)"
   ]
  },
  {
   "cell_type": "markdown",
   "metadata": {},
   "source": [
    "### Test plain ring buffer.\n",
    "\n",
    "Test that the RingBuf overwrites entries; 'd' should replace 'a'. \n",
    "\n"
   ]
  },
  {
   "cell_type": "code",
   "execution_count": 3,
   "metadata": {},
   "outputs": [
    {
     "data": {
      "text/plain": [
       "(0, 'a')"
      ]
     },
     "execution_count": 3,
     "metadata": {},
     "output_type": "execute_result"
    }
   ],
   "source": [
    "rbuf = RingBuf(3)\n",
    "rbuf.append('a')\n",
    "rbuf.append('b')\n",
    "rbuf.append('c')\n",
    "rbuf.append('d')"
   ]
  },
  {
   "cell_type": "markdown",
   "metadata": {},
   "source": [
    "Check basic interactions with the RingBuf:\n",
    "- iteration\n",
    "- getitem with: list, tuple, set, slice, index"
   ]
  },
  {
   "cell_type": "code",
   "execution_count": 4,
   "metadata": {},
   "outputs": [],
   "source": [
    "# Iteration\n",
    "for i, ele in enumerate(rbuf):\n",
    "    assert ele == ('d', 'b', 'c')[i],\\\n",
    "        \"At index: \" + str(i) + \" Got ele: \" + ele\n",
    "    \n",
    "# single index getitem\n",
    "assert rbuf[0] == 'd', \"Failed single index lookup\"\n",
    "\n",
    "# getitem with list\n",
    "assert rbuf[[0, 1]] == ['d', 'b'], \"Gailed list of indices lookup\"\n",
    "\n",
    "# getitem with tuple\n",
    "assert rbuf[(1, 2)] == ['b', 'c'], \"Failed tuple of indices lookup\"\n",
    "\n",
    "# getitem with set\n",
    "assert rbuf[{1, 1, 1}] == ['b'], \"Failed set lookup\"\n",
    "\n",
    "# getitem with slice\n",
    "assert rbuf[::2] == ['d', 'c'], \"Failed slice lookup\""
   ]
  },
  {
   "cell_type": "markdown",
   "metadata": {},
   "source": [
    "Check list accessing with wraparound indexing."
   ]
  },
  {
   "cell_type": "code",
   "execution_count": 5,
   "metadata": {},
   "outputs": [
    {
     "name": "stdout",
     "output_type": "stream",
     "text": [
      "['d', 'b', 'c', 'd']\n"
     ]
    }
   ],
   "source": [
    "res = rbuf[[0, 1, 2, 3]]\n",
    "print(res)\n",
    "assert res == ['d', 'b', 'c', 'd'], 'ERROR'"
   ]
  },
  {
   "cell_type": "markdown",
   "metadata": {},
   "source": [
    "Try to sample from the buffer. Do this many times to see that each element appears about the same number of times."
   ]
  },
  {
   "cell_type": "code",
   "execution_count": 6,
   "metadata": {},
   "outputs": [
    {
     "name": "stdout",
     "output_type": "stream",
     "text": [
      "{'d': 334, 'c': 278, 'b': 288}\n"
     ]
    }
   ],
   "source": [
    "eles = list()\n",
    "for i in range(900):\n",
    "    eles += rbuf.sample(1)\n",
    "hist = make_hist(eles)\n",
    "print(hist)\n",
    "for k,v in hist.items():\n",
    "    assert abs(v - 300) < 50, \"ERROR: Sampling seems non-uniform.\""
   ]
  },
  {
   "cell_type": "markdown",
   "metadata": {},
   "source": [
    "### Test weighted ring buffer.\n",
    "\n",
    "Requires a class that has some writeable property weight."
   ]
  },
  {
   "cell_type": "code",
   "execution_count": 7,
   "metadata": {},
   "outputs": [],
   "source": [
    "class W():\n",
    "    def __init__(self, weight, name):\n",
    "        self.weight = weight\n",
    "        self.name = name\n",
    "    def __str__(self):\n",
    "        return 'weight=' + str(self.weight) + ' name=' + str(self.name)\n",
    "\n",
    "w_list = (W(.01, 'a'), W(0, 'b'), W(.5, 'c'), W(3.4, 'd'), W(.4, 'e'),\n",
    "          W(2, 'f'), W(1.1, 'g'), W(.1, 'h'), W(0, 'i'), W(5, 'j'))"
   ]
  },
  {
   "cell_type": "markdown",
   "metadata": {},
   "source": [
    "Test that the WeightedRingBuf overwrites entries; 'j' should replace 'a'.\n",
    "\n",
    "Also show that can handle list accessing with wraparound indexing."
   ]
  },
  {
   "cell_type": "code",
   "execution_count": 8,
   "metadata": {},
   "outputs": [
    {
     "name": "stdout",
     "output_type": "stream",
     "text": [
      "total_weight = 12.5\n"
     ]
    }
   ],
   "source": [
    "wbuf = WeightedRingBuf(9)\n",
    "for ele in w_list:\n",
    "    wbuf.append(ele)\n",
    "    \n",
    "assert wbuf.min_weight == .1, wbuf.min_weight\n",
    "\n",
    "# Check that the wbuf contains ['j', 'b', 'c', ..., 'i']\n",
    "expected_eles = [w_list[-1], *w_list[1:(len(w_list)-1)]]\n",
    "assert wbuf[:] == expected_eles,\\\n",
    "    'expected: ' + [ele.name for ele in expected_eles] +\\\n",
    "    \"actual: \" + [ele.name for ele in wbuf[:]]\n",
    "\n",
    "# Check that the total_weight property is correct. Float math so\n",
    "# tolerance of 1 trillionth\n",
    "net_weight = sum([ele.weight for ele in wbuf])\n",
    "assert abs(net_weight - wbuf.total_weight) < 1e-12,\\\n",
    "    'total_weight=' + str(wbuf.total_weight) +\\\n",
    "    ' net_weight=' + str(net_weight)\n",
    "expected_net_weight = sum([ele.weight for ele in expected_eles])\n",
    "assert abs(expected_net_weight - wbuf.total_weight) < 1e-12,\\\n",
    "    'total_weight=' + str(wbuf.total_weight) +\\\n",
    "    ' expected_net_weight=' + str(expected_net_weight)\n",
    "print('total_weight =', wbuf.total_weight)"
   ]
  },
  {
   "cell_type": "markdown",
   "metadata": {},
   "source": [
    "Test that sampling is done in proportion to the weights of the elements. Sampling returns a unique set of ids, so we repeatedly sample."
   ]
  },
  {
   "cell_type": "code",
   "execution_count": 9,
   "metadata": {},
   "outputs": [
    {
     "name": "stdout",
     "output_type": "stream",
     "text": [
      "{'g': 111, 'h': 9, 'e': 47, 'd': 269, 'j': 342, 'c': 47, 'f': 175}\n"
     ]
    }
   ],
   "source": [
    "ids = list()\n",
    "n_samples = 1000\n",
    "batch_size = 2\n",
    "assert n_samples % batch_size == 0,\\\n",
    "    \"Not a general requirement for wbuf\"\n",
    "for i in range(n_samples // batch_size):\n",
    "    ids += wbuf.sample(batch_size)\n",
    "hist = make_hist([w.name for w in wbuf[ids]])\n",
    "\n",
    "assert 'a' not in hist.keys(), \"'a' should be overwritten\"\n",
    "\n",
    "# In the above cell we confirmed that wbuf has the elements we want\n",
    "for ele in wbuf:\n",
    "    if ele.name in {'b', 'i'}:\n",
    "        assert ele.name not in hist.keys(),\\\n",
    "            \"'b' and 'i' have 0 weight so shouldn't be sampled.\" +\\\n",
    "            str(hist)\n",
    "        continue\n",
    "        \n",
    "    name = hist[ele.name]\n",
    "    weight = ele.weight\n",
    "    assert abs(name/n_samples - weight/wbuf.total_weight) < .1,\\\n",
    "        'Improper sampling for W(' + ele.name + ', ' +\\\n",
    "        str(ele.weight) + ') with total_weight=' +\\\n",
    "        str(wbuf.total_weight) + ': ' + str(hist)\n",
    "\n",
    "print(hist)"
   ]
  },
  {
   "cell_type": "markdown",
   "metadata": {},
   "source": [
    "sample_n_subsets should generally look the same if no single weight represents a significant portion of total_weight"
   ]
  },
  {
   "cell_type": "code",
   "execution_count": 10,
   "metadata": {},
   "outputs": [
    {
     "name": "stdout",
     "output_type": "stream",
     "text": [
      "{'c': 48, 'h': 5, 'e': 30, 'd': 236, 'j': 400, 'g': 101, 'f': 180}\n"
     ]
    }
   ],
   "source": [
    "ids = list()\n",
    "n_samples = 1000\n",
    "batch_size = 2\n",
    "assert n_samples % batch_size == 0,\\\n",
    "    \"Not a general requirement for wbuf\"\n",
    "for i in range(n_samples // batch_size):\n",
    "    ids += wbuf.sample_n_subsets(batch_size)\n",
    "hist = make_hist([w.name for w in wbuf[ids]])\n",
    "\n",
    "assert 'a' not in hist.keys(), \"'a' should be overwritten\"\n",
    "\n",
    "# In the above cell we confirmed that wbuf has the elements we want\n",
    "for ele in wbuf:\n",
    "    if ele.name in {'b', 'i'}:\n",
    "        assert ele.name not in hist.keys(),\\\n",
    "            \"'b' and 'i' have 0 weight so shouldn't be sampled.\" +\\\n",
    "            str(hist)\n",
    "        continue\n",
    "        \n",
    "    name = hist[ele.name]\n",
    "    weight = ele.weight\n",
    "    assert abs(name/n_samples - weight/wbuf.total_weight) < .1,\\\n",
    "        'Improper sampling for W(' + ele.name + ', ' +\\\n",
    "        str(ele.weight) + ') with total_weight=' +\\\n",
    "        str(wbuf.total_weight) + ': ' + str(hist)\n",
    "\n",
    "print(hist)"
   ]
  },
  {
   "cell_type": "markdown",
   "metadata": {},
   "source": [
    "Test Exclusion"
   ]
  },
  {
   "cell_type": "code",
   "execution_count": 11,
   "metadata": {},
   "outputs": [
    {
     "name": "stdout",
     "output_type": "stream",
     "text": [
      "{'c': 111, 'g': 276, 'f': 510, 'e': 103}\n"
     ]
    }
   ],
   "source": [
    "ids = list()\n",
    "for i in range(n_samples):\n",
    "    # 'b' and 'i' have 0 weight\n",
    "    # Manually exclude 'd', j', 'h', \n",
    "    ids += wbuf.sample(1, exclude = {0, 3, 7})\n",
    "hist = make_hist([w.name for w in wbuf[ids]])\n",
    "\n",
    "assert set(hist.keys()) == {'c', 'e', 'f', 'g'},\\\n",
    "    'Exclusion failure: ' + str(hist)\n",
    "print(hist)"
   ]
  },
  {
   "cell_type": "markdown",
   "metadata": {},
   "source": [
    "Change the weight of 'j' to be over 50% of the total_weight and check that the tree gets updated. This mutates the tree and throws off other tests since it has an extreme outlier."
   ]
  },
  {
   "cell_type": "code",
   "execution_count": 12,
   "metadata": {},
   "outputs": [
    {
     "name": "stdout",
     "output_type": "stream",
     "text": [
      "total_weight = 25.0\n"
     ]
    }
   ],
   "source": [
    "old_total_weight = wbuf.total_weight\n",
    "wbuf.update_weight(0, wbuf[0].weight + wbuf.total_weight)\n",
    "assert abs(2*old_total_weight - wbuf.total_weight) < 1e-12,\\\n",
    "    'total_weight=' + str(wbuf.total_weight) +\\\n",
    "    ' old_total_weight=' + str(old_total_weight)\n",
    "print('total_weight =', wbuf.total_weight)"
   ]
  },
  {
   "cell_type": "markdown",
   "metadata": {},
   "source": [
    "To test sample_n_subset no check that if sampling with batch_size of 2 'j' will be selected every time, since it represents the entire first 1/2 of the weights. I feel like I may be testing implementation details and not public interface..."
   ]
  },
  {
   "cell_type": "code",
   "execution_count": 13,
   "metadata": {},
   "outputs": [
    {
     "name": "stdout",
     "output_type": "stream",
     "text": [
      "{'g': 84, 'h': 6, 'e': 25, 'd': 207, 'j': 500, 'c': 27, 'f': 151}\n"
     ]
    }
   ],
   "source": [
    "ids = list()\n",
    "for i in range(n_samples // 2):\n",
    "    ids += wbuf.sample_n_subsets(2)\n",
    "hist = make_hist([w.name for w in wbuf[ids]])\n",
    "\n",
    "assert hist['j'] == 500\n",
    "print(hist)"
   ]
  },
  {
   "cell_type": "markdown",
   "metadata": {},
   "source": [
    "For regular sampling it is possible for neither element to be 'j', so cannot possible be more than 500, but can be less. (This could fail but with large enough numbers it probably won't be selected once...)"
   ]
  },
  {
   "cell_type": "code",
   "execution_count": 14,
   "metadata": {},
   "outputs": [
    {
     "name": "stdout",
     "output_type": "stream",
     "text": [
      "{'g': 72, 'h': 6, 'e': 37, 'd': 233, 'j': 467, 'c': 45, 'f': 140}\n"
     ]
    }
   ],
   "source": [
    "ids = list()\n",
    "for i in range(n_samples // 2):\n",
    "    ids += wbuf.sample(2)\n",
    "hist = make_hist([w.name for w in wbuf[ids]])\n",
    "\n",
    "assert hist['j'] <= n_samples // 2\n",
    "print(hist)"
   ]
  },
  {
   "cell_type": "code",
   "execution_count": 15,
   "metadata": {},
   "outputs": [
    {
     "data": {
      "text/plain": [
       "0.1"
      ]
     },
     "execution_count": 15,
     "metadata": {},
     "output_type": "execute_result"
    }
   ],
   "source": [
    "wbuf.update_weight(1, 3)\n",
    "wbuf.update_weight(8, 4)\n",
    "assert wbuf.min_weight == .1,\\\n",
    "    'min_weight=' + str(wbug.min_weight) +\\\n",
    "    'all_weights=' + str([ele.weight for ele in wbuf])\n",
    "wbuf.min_weight"
   ]
  }
 ],
 "metadata": {
  "kernelspec": {
   "display_name": "Python 3",
   "language": "python",
   "name": "python3"
  },
  "language_info": {
   "codemirror_mode": {
    "name": "ipython",
    "version": 3
   },
   "file_extension": ".py",
   "mimetype": "text/x-python",
   "name": "python",
   "nbconvert_exporter": "python",
   "pygments_lexer": "ipython3",
   "version": "3.5.2"
  }
 },
 "nbformat": 4,
 "nbformat_minor": 2
}
