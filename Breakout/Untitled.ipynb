{
 "cells": [
  {
   "cell_type": "code",
   "execution_count": 14,
   "metadata": {},
   "outputs": [],
   "source": [
    "import numpy as np\n",
    "from collections import defaultdict"
   ]
  },
  {
   "cell_type": "code",
   "execution_count": 2,
   "metadata": {},
   "outputs": [],
   "source": [
    "def make_tree(capacity):\n",
    "    \"\"\"\n",
    "    Create a binary tree, with initial weights of 0. \n",
    "    Each node is the sum of its children.\n",
    "    \"\"\"\n",
    "    c = 1\n",
    "    tree = []\n",
    "    while c < capacity:\n",
    "        tree.append([0] * c)\n",
    "        c *= 2\n",
    "    tree.append([0] * capacity)\n",
    "    return tree"
   ]
  },
  {
   "cell_type": "code",
   "execution_count": 3,
   "metadata": {},
   "outputs": [],
   "source": [
    "def update_tree(tree, idx, val):\n",
    "    \"\"\"\n",
    "    Replace the idx'th leaf and update the weights.\n",
    "    Mutates tree.\n",
    "    \"\"\"\n",
    "    delta = val - tree[-1][idx]\n",
    "    for depth in range(-1, -len(tree) - 1, -1):\n",
    "        tree[depth][idx] += delta\n",
    "        idx //= 2"
   ]
  },
  {
   "cell_type": "code",
   "execution_count": 10,
   "metadata": {},
   "outputs": [],
   "source": [
    "def get_leaf(tree):\n",
    "    \"\"\"\n",
    "    Randomly selects a leaf from the tree based on the weights in the tree.\n",
    "    \"\"\"\n",
    "    val = np.random.randint(0, tree[0][0])\n",
    "    idx = 0\n",
    "    for depth in range(1, len(tree)-1):\n",
    "        left_val = tree[depth][idx]\n",
    "        if val >= left_val:\n",
    "            val -= left_val\n",
    "            idx = (idx + 1) * 2\n",
    "        else:\n",
    "            idx *= 2\n",
    "    left_leaf = tree[len(tree)-1][idx]\n",
    "    return idx + (val >= left_leaf)"
   ]
  },
  {
   "cell_type": "code",
   "execution_count": 16,
   "metadata": {},
   "outputs": [],
   "source": [
    "def simple_hist(ll):\n",
    "    hist = defaultdict(int)\n",
    "    for ele in ll:\n",
    "        hist[ele] += 1\n",
    "    return hist"
   ]
  },
  {
   "cell_type": "code",
   "execution_count": 11,
   "metadata": {},
   "outputs": [
    {
     "data": {
      "text/plain": [
       "[[14], [10, 4], [7, 3, 0, 4], [0, 7, 3, 0, 0, 0, 4]]"
      ]
     },
     "execution_count": 11,
     "metadata": {},
     "output_type": "execute_result"
    }
   ],
   "source": [
    "tree = make_tree(7)\n",
    "update_tree(tree, 1, 7)\n",
    "update_tree(tree, 2, 3)\n",
    "update_tree(tree, 6, 4)\n",
    "tree"
   ]
  },
  {
   "cell_type": "code",
   "execution_count": 18,
   "metadata": {},
   "outputs": [
    {
     "data": {
      "text/plain": [
       "defaultdict(int, {1: 698, 2: 307, 6: 395})"
      ]
     },
     "execution_count": 18,
     "metadata": {},
     "output_type": "execute_result"
    }
   ],
   "source": [
    "simple_hist([get_leaf(tree) for i in range(1400)])"
   ]
  },
  {
   "cell_type": "code",
   "execution_count": null,
   "metadata": {},
   "outputs": [],
   "source": []
  }
 ],
 "metadata": {
  "kernelspec": {
   "display_name": "Python 3",
   "language": "python",
   "name": "python3"
  },
  "language_info": {
   "codemirror_mode": {
    "name": "ipython",
    "version": 3
   },
   "file_extension": ".py",
   "mimetype": "text/x-python",
   "name": "python",
   "nbconvert_exporter": "python",
   "pygments_lexer": "ipython3",
   "version": "3.5.3"
  }
 },
 "nbformat": 4,
 "nbformat_minor": 2
}
