{
 "cells": [
  {
   "cell_type": "code",
   "execution_count": 131,
   "metadata": {},
   "outputs": [],
   "source": [
    "import numpy as np\n",
    "from collections import defaultdict\n",
    "from random import sample"
   ]
  },
  {
   "cell_type": "code",
   "execution_count": 132,
   "metadata": {},
   "outputs": [],
   "source": [
    "def simple_hist(iterable):\n",
    "    hist = defaultdict(int)\n",
    "    for i in iterable:\n",
    "        hist[i] += 1\n",
    "    return dict(hist)"
   ]
  },
  {
   "cell_type": "code",
   "execution_count": 158,
   "metadata": {},
   "outputs": [],
   "source": [
    "class RingBuf:\n",
    "    def __init__(self, capacity):\n",
    "        \"\"\"\n",
    "        Initialize an empty list of capacity elements to be filled up.\n",
    "        :param capacity: Maximum number of elements to store before wrapping.\n",
    "        \"\"\"\n",
    "        self.capacity = int(capacity)\n",
    "        self.index = 0\n",
    "        self.data = [None] * self.capacity\n",
    "\n",
    "    def __getitem__(self, items):\n",
    "        \"\"\"\n",
    "        Returns the items inside of the buffer. Handles wraparound.\n",
    "        \"\"\"\n",
    "        if isinstance(items, list):\n",
    "            return [self.data[idx % self.capacity] for idx in items]\n",
    "        return self.data[items % self.capacity]\n",
    "\n",
    "    def append(self, element):\n",
    "        \"\"\"\n",
    "        Internal append that will be fronted by the specific buffer that will\n",
    "        provide a nice interface. Add a new element to the list.\n",
    "        Overwrites in the order that elements\n",
    "        were placed on buffer.\n",
    "        :param element: new element to append.\n",
    "        :return: the element replaced if wrapping around or None.\n",
    "        \"\"\"\n",
    "        idx = self.index % self.capacity\n",
    "        old_ele = self.data[idx]\n",
    "        self.data[idx] = element\n",
    "        self.index += 1\n",
    "        return old_ele\n",
    "\n",
    "    def sample(self, num):\n",
    "        \"\"\"\n",
    "        Randomly sample a set of the elements in the buffer.\n",
    "        :param num: Number of elements to sample.\n",
    "        :return: a list of elements.\n",
    "        \"\"\"\n",
    "        ids = sample(range(self.size), num)\n",
    "        return [self.data[i] for i in ids]\n",
    "\n",
    "    @property\n",
    "    def size(self):\n",
    "        \"\"\"\n",
    "        While the buffer is still growing self.index. Once the buffer is full\n",
    "        the length stays stagnant at capacity while new elements simple overwrite\n",
    "        the old ones.\n",
    "        :return:\n",
    "        \"\"\"\n",
    "        return min(self.index, self.capacity)\n",
    "\n",
    "    def __len__(self):\n",
    "        return self.size\n",
    "\n"
   ]
  },
  {
   "cell_type": "code",
   "execution_count": 159,
   "metadata": {},
   "outputs": [
    {
     "data": {
      "text/plain": [
       "['d', 'b', 'c', 'd']"
      ]
     },
     "execution_count": 159,
     "metadata": {},
     "output_type": "execute_result"
    }
   ],
   "source": [
    "rbuf = RingBuf(3)\n",
    "rbuf.append('a')\n",
    "rbuf.append('b')\n",
    "rbuf.append('c')\n",
    "rbuf.append('d')\n",
    "rbuf[[0, 1, 2, 3]]"
   ]
  },
  {
   "cell_type": "code",
   "execution_count": 160,
   "metadata": {},
   "outputs": [
    {
     "data": {
      "text/plain": [
       "{'b': 313, 'c': 301, 'd': 286}"
      ]
     },
     "execution_count": 160,
     "metadata": {},
     "output_type": "execute_result"
    }
   ],
   "source": [
    "# 'a' should never appear since it should be overwritten.\n",
    "# All others should be around 1/3 since sampling is uniform\n",
    "eles = list()\n",
    "for i in range(900):\n",
    "    eles += rbuf.sample(1)\n",
    "simple_hist(eles)"
   ]
  },
  {
   "cell_type": "code",
   "execution_count": 183,
   "metadata": {},
   "outputs": [],
   "source": [
    "class WeightedBuf():\n",
    "    \"\"\"\n",
    "    This class is a buffer which can hold elements, but with weighted selection.\n",
    "    Can ontain any element so long as it has a weight property which is a\n",
    "    numeric value (ele.weight).\n",
    "\n",
    "    Implemented as a binary tree where each node holds the sum of the weights\n",
    "    of its children.\n",
    "    \"\"\"\n",
    "\n",
    "    def __init__(self, capacity):\n",
    "        self.capacity = capacity\n",
    "        self.index = 0\n",
    "        self.tree = self.make_tree(capacity)\n",
    "\n",
    "    def __getitem__(self, idx):\n",
    "        \"\"\"\n",
    "        Retrieve an item from the underlying buffer.\n",
    "        :param idx: idx of the element.\n",
    "        :return:\n",
    "        \"\"\"\n",
    "        return self.tree[-1][idx]\n",
    "\n",
    "    def append(self, ele):\n",
    "        \"\"\"\n",
    "        Appends an element to the buffer and updates the weights of its\n",
    "        parent nodes.\n",
    "        :param ele:\n",
    "        :return: old element\n",
    "        \"\"\"\n",
    "        weight = ele.weight\n",
    "        ele.weight = 0  # Will be set in update_weight\n",
    "        old_ele = self.tree[-1].append(ele)\n",
    "        \n",
    "        self.update_weight(self.index, weight)\n",
    "        \n",
    "        self.index += 1\n",
    "        return old_ele\n",
    "\n",
    "    def make_tree(self, capacity):\n",
    "        \"\"\"\n",
    "        Create a tree with all weights initialized to 0.\n",
    "        \"\"\"\n",
    "        c = 1\n",
    "        tree = []\n",
    "        while c < capacity:\n",
    "            tree.append(np.zeros(c))\n",
    "            c *= 2\n",
    "        tree.append(RingBuf(capacity))\n",
    "        return tree\n",
    "\n",
    "    def get_leaf(self):\n",
    "        \"\"\"\n",
    "        Randomly select a leaf from the tree based on the weights in the tree.\n",
    "        Returns the id of the leaf (the index).\n",
    "        \"\"\"\n",
    "        val = np.random.randint(0, self.tree[0][0])\n",
    "        idx = 0\n",
    "        for depth in range(1, len(self.tree) - 1):\n",
    "            left_weight = self.tree[depth][idx]\n",
    "            if val >= left_weight:\n",
    "                val -= left_weight\n",
    "                idx = (idx + 1) * 2\n",
    "            else:\n",
    "                idx *= 2\n",
    "        left_weight = self[idx].weight\n",
    "        return idx + (val >= left_weight)\n",
    "\n",
    "    def update_weight(self, index, weight):\n",
    "        \"\"\"\n",
    "        Resets the weight of the element identified by index, then\n",
    "        goes up each row updating the parent nodes with the new weight.\n",
    "        :param index: index of the changed experience.\n",
    "        :param weight: new weight to give the element.\n",
    "        \"\"\"\n",
    "        idx = index % self.capacity\n",
    "        delta = weight - self[idx].weight\n",
    "        self[idx].weight = weight\n",
    "        idx //= 2\n",
    "        for depth in range(-2, -len(self.tree) - 1, -1):\n",
    "            self.tree[depth][idx] += delta\n",
    "            idx //= 2\n",
    "\n",
    "    def sample(self, num):\n",
    "        \"\"\"\n",
    "        Sample a number of unique experiences. Shouldn't cause too much change\n",
    "        in the effective weights since we are assuming the batch_size is much\n",
    "        smaller than the experience buffer.\n",
    "        :param num: how many experiences to sample.\n",
    "        Returns a unique set of indices for the leaves in the tree.\n",
    "        \"\"\"\n",
    "        idxs = set()\n",
    "        while len(idxs) < num:\n",
    "            idxs.add(self.get_leaf())\n",
    "        return list(idxs)"
   ]
  },
  {
   "cell_type": "code",
   "execution_count": 187,
   "metadata": {},
   "outputs": [],
   "source": [
    "class W():\n",
    "    def __init__(self, weight, name):\n",
    "        self.weight = weight\n",
    "        self.name = name\n",
    "    def __str__(self):\n",
    "        return 'weight=' + str(self.weight) + ' name=' + str(self.name)"
   ]
  },
  {
   "cell_type": "code",
   "execution_count": 188,
   "metadata": {},
   "outputs": [
    {
     "name": "stdout",
     "output_type": "stream",
     "text": [
      "[array([11.]), array([10.,  1.]), <__main__.RingBuf object at 0x7f716681c9b0>]\n"
     ]
    },
    {
     "data": {
      "text/plain": [
       "['weight=10 name=d', 'weight=0 name=b', 'weight=1 name=c', 'weight=10 name=d']"
      ]
     },
     "execution_count": 188,
     "metadata": {},
     "output_type": "execute_result"
    }
   ],
   "source": [
    "wbuf = WeightedBuf(3)\n",
    "wbuf.append(W(10, 'a'))\n",
    "wbuf.append(W(0, 'b'))\n",
    "wbuf.append(W(1, 'c'))\n",
    "wbuf.append(W(10, 'd'))\n",
    "print(wbuf.tree)\n",
    "[str(w) for w in wbuf[[0, 1, 2, 3]]]"
   ]
  },
  {
   "cell_type": "code",
   "execution_count": 189,
   "metadata": {},
   "outputs": [
    {
     "data": {
      "text/plain": [
       "{'c': 99, 'd': 1001}"
      ]
     },
     "execution_count": 189,
     "metadata": {},
     "output_type": "execute_result"
    }
   ],
   "source": [
    "# 'a' should never appear since it should be overwritten.\n",
    "# All others should appear in proportion to their weights\n",
    "ids = list()\n",
    "for i in range(1100):\n",
    "    ids += wbuf.sample(1)\n",
    "simple_hist([w.name for w in wbuf[ids]])"
   ]
  },
  {
   "cell_type": "code",
   "execution_count": 190,
   "metadata": {},
   "outputs": [
    {
     "data": {
      "text/plain": [
       "{'c': 73, 'd': 1027}"
      ]
     },
     "execution_count": 190,
     "metadata": {},
     "output_type": "execute_result"
    }
   ],
   "source": [
    "wbuf.update_weight(0, 3)\n",
    "ids = list()\n",
    "for i in range(1100):\n",
    "    ids += wbuf.sample(1)\n",
    "simple_hist([w.name for w in wbuf[ids]])"
   ]
  },
  {
   "cell_type": "code",
   "execution_count": null,
   "metadata": {},
   "outputs": [],
   "source": []
  }
 ],
 "metadata": {
  "kernelspec": {
   "display_name": "Python 3",
   "language": "python",
   "name": "python3"
  },
  "language_info": {
   "codemirror_mode": {
    "name": "ipython",
    "version": 3
   },
   "file_extension": ".py",
   "mimetype": "text/x-python",
   "name": "python",
   "nbconvert_exporter": "python",
   "pygments_lexer": "ipython3",
   "version": "3.5.2"
  }
 },
 "nbformat": 4,
 "nbformat_minor": 2
}
