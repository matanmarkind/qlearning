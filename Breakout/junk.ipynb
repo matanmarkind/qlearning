{
 "cells": [
  {
   "cell_type": "code",
   "execution_count": 1,
   "metadata": {},
   "outputs": [],
   "source": [
    "from collections import namedtuple\n",
    "import numpy as np"
   ]
  },
  {
   "cell_type": "code",
   "execution_count": 31,
   "metadata": {},
   "outputs": [],
   "source": [
    "class RingBuf:\n",
    "    def __init__(self, capacity):\n",
    "        \"\"\"\n",
    "        Initialize an empty list of capacity elements to be filled up.\n",
    "        :param capacity: Maximum number of elements to store before wrapping.\n",
    "        \"\"\"\n",
    "        self.capacity = int(capacity)\n",
    "        self.index = 0\n",
    "        self.data = [None] * self.capacity\n",
    "\n",
    "    def __getitem__(self, items):\n",
    "        \"\"\"\n",
    "        Returns the items inside of the buffer. Handles wraparound.\n",
    "        \"\"\"\n",
    "        if isinstance(items, list):\n",
    "            return [self.data[idx % self.capacity] for idx in items]\n",
    "        return self.data[items % self.capacity]\n",
    "\n",
    "    def append(self, element):\n",
    "        \"\"\"\n",
    "        Internal append that will be fronted by the specific buffer that will\n",
    "        provide a nice interface. Add a new element to the list.\n",
    "        Overwrites in the order that elements\n",
    "        were placed on buffer.\n",
    "        :param element: new element to append.\n",
    "        :return: the element replaced if wrapping around or None.\n",
    "        \"\"\"\n",
    "        idx = self.index % self.capacity\n",
    "        old_ele = self.data[idx]\n",
    "        self.data[idx] = element\n",
    "        self.index += 1\n",
    "        return old_ele\n",
    "\n",
    "    def sample(self, num):\n",
    "        \"\"\"\n",
    "        Randomly sample a set of the elements in the buffer.\n",
    "        :param num: Number of elements to sample.\n",
    "        :return: a list of elements.\n",
    "        \"\"\"\n",
    "        ids = [np.random.randint(0, self.size) for i in range(num)]\n",
    "        return [self.data[i] for i in ids]\n",
    "\n",
    "    @property\n",
    "    def size(self):\n",
    "        \"\"\"\n",
    "        While the buffer is still growing self.index. Once the buffer is full\n",
    "        the length stays stagnant at capacity while new elements simple overwrite\n",
    "        the old ones.\n",
    "        :return:\n",
    "        \"\"\"\n",
    "        return min(self.index, self.capacity)\n",
    "\n",
    "    def __len__(self):\n",
    "        return self.size\n",
    "\n"
   ]
  },
  {
   "cell_type": "code",
   "execution_count": 32,
   "metadata": {},
   "outputs": [],
   "source": [
    "class WeightedBuf():\n",
    "    \"\"\"\n",
    "    This class is a buffer which can hold elements, but with weighted selection.\n",
    "    Can ontain any element so long as it has a weight property which is a\n",
    "    numeric value (ele.weight).\n",
    "\n",
    "    Implemented as a binary tree where each node holds the sum of the weights\n",
    "    of its children.\n",
    "    \"\"\"\n",
    "\n",
    "    def __init__(self, capacity):\n",
    "        self.capacity = capacity\n",
    "        self.index = 0\n",
    "        self.tree = self.make_tree(capacity)\n",
    "\n",
    "    def __getitem__(self, idx):\n",
    "        \"\"\"\n",
    "        Retrieve an item from the underlying buffer.\n",
    "        :param idx: idx of the element.\n",
    "        :return:\n",
    "        \"\"\"\n",
    "        return self.tree[-1][idx]\n",
    "\n",
    "    def append(self, ele):\n",
    "        \"\"\"\n",
    "        Appends an element to the buffer and updates the weights of its\n",
    "        parent nodes.\n",
    "        :param ele:\n",
    "        :return: old element\n",
    "        \"\"\"\n",
    "        old_ele = self.tree[-1].append(ele)\n",
    "        if old_ele is not None:\n",
    "            delta = ele.weight - old_ele.weight\n",
    "            self.update_weight(self.index % self.capacity, delta)\n",
    "            self.index += 1\n",
    "        return old_ele\n",
    "\n",
    "    def make_tree(self, capacity):\n",
    "        \"\"\"\n",
    "        Create a tree with all weights initialized to 0.\n",
    "        \"\"\"\n",
    "        c = 1\n",
    "        tree = []\n",
    "        while c < capacity:\n",
    "            tree.append(np.zeros(c))\n",
    "            c *= 2\n",
    "        tree.append(RingBuf(capacity))\n",
    "        return tree\n",
    "\n",
    "    def get_leaf(self):\n",
    "        \"\"\"\n",
    "        Randomly select a leaf from the tree based on the weights in the tree.\n",
    "        Returns the id of the leaf (the index).\n",
    "        \"\"\"\n",
    "        val = np.random.randint(0, self.tree[0][0])\n",
    "        idx = 0\n",
    "        for depth in range(1, len(self.tree) - 1):\n",
    "            left_weight = self.tree[depth][idx]\n",
    "            if val >= left_weight:\n",
    "                val -= left_weight\n",
    "                idx = (idx + 1) * 2\n",
    "            else:\n",
    "                idx *= 2\n",
    "        left_weight = self[idx].weight\n",
    "        return idx + (val >= left_weight)\n",
    "\n",
    "    def update_weight(self, idx, delta):\n",
    "        \"\"\"\n",
    "        Go up each row updating the parent nodes with the new weight.\n",
    "        :param idx: index of the changed experience.\n",
    "        :param delta: change in weights for that index.\n",
    "        \"\"\"\n",
    "        self[idx].weight += delta\n",
    "        idx //= 2\n",
    "        for depth in range(-2, -len(self.tree) - 1, -1):\n",
    "            self.tree[depth][idx] += delta\n",
    "            idx //= 2\n",
    "\n",
    "    def sample(self, num):\n",
    "        \"\"\"\n",
    "        Sample a number of unique experiences. Shouldn't cause too much change\n",
    "        in the effective weights since we are assuming the batch_size is much\n",
    "        smaller than the experience buffer.\n",
    "        :param num: how many experiences to sample.\n",
    "        Returns a unique set of indices for the leaves in the tree.\n",
    "        \"\"\"\n",
    "        idxs = set()\n",
    "        while len(idxs) < num:\n",
    "            idxs |= {self._get_leaf()}\n",
    "        return list(idxs)\n"
   ]
  },
  {
   "cell_type": "code",
   "execution_count": 37,
   "metadata": {},
   "outputs": [
    {
     "data": {
      "text/plain": [
       "[3, 1, 2, 3]"
      ]
     },
     "execution_count": 37,
     "metadata": {},
     "output_type": "execute_result"
    }
   ],
   "source": [
    "rbuf = RingBuf(3)\n",
    "rbuf.append(0)\n",
    "rbuf.append(1)\n",
    "rbuf.append(2)\n",
    "rbuf.append(3)\n",
    "rbuf[[0, 1, 2, 3]]"
   ]
  },
  {
   "cell_type": "code",
   "execution_count": 45,
   "metadata": {},
   "outputs": [],
   "source": [
    "class W():\n",
    "    def __init__(self, weight, name):\n",
    "        self.weight = weight\n",
    "        self.name = name\n",
    "    def __str__(self):\n",
    "        return 'weight=' + str(weight) + ' name=' + str(name)"
   ]
  },
  {
   "cell_type": "code",
   "execution_count": 47,
   "metadata": {},
   "outputs": [
    {
     "name": "stdout",
     "output_type": "stream",
     "text": [
      "[<__main__.W object at 0x7f7166895d68>, <__main__.W object at 0x7f7166895cf8>, <__main__.W object at 0x7f71945e0cc0>, <__main__.W object at 0x7f7166895d68>]\n"
     ]
    }
   ],
   "source": [
    "wbuf = WeightedBuf(3)\n",
    "wbuf.append(W(10, 'a'))\n",
    "wbuf.append(W(0, 'b'))\n",
    "wbuf.append(W(1, 'c'))\n",
    "wbuf.append(W(10, 'd'))\n",
    "wbuf[[0, 1, 2, 3]]"
   ]
  },
  {
   "cell_type": "code",
   "execution_count": 29,
   "metadata": {},
   "outputs": [
    {
     "data": {
      "text/plain": [
       "True"
      ]
     },
     "execution_count": 29,
     "metadata": {},
     "output_type": "execute_result"
    }
   ],
   "source": []
  },
  {
   "cell_type": "code",
   "execution_count": null,
   "metadata": {},
   "outputs": [],
   "source": []
  }
 ],
 "metadata": {
  "kernelspec": {
   "display_name": "Python 3",
   "language": "python",
   "name": "python3"
  },
  "language_info": {
   "codemirror_mode": {
    "name": "ipython",
    "version": 3
   },
   "file_extension": ".py",
   "mimetype": "text/x-python",
   "name": "python",
   "nbconvert_exporter": "python",
   "pygments_lexer": "ipython3",
   "version": "3.5.3"
  }
 },
 "nbformat": 4,
 "nbformat_minor": 2
}
