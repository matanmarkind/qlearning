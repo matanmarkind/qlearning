{
 "cells": [
  {
   "cell_type": "code",
   "execution_count": 1,
   "metadata": {},
   "outputs": [],
   "source": [
    "from ExperienceBuffer import ExpBuf, WeightedExpBuf\n",
    "from collections import defaultdict\n",
    "import random"
   ]
  },
  {
   "cell_type": "code",
   "execution_count": 2,
   "metadata": {},
   "outputs": [],
   "source": [
    "def make_hist(iterable, hasher = hash):\n",
    "    hist = defaultdict(int)\n",
    "    for i in iterable:\n",
    "        hist[hasher(i)] += 1\n",
    "    return dict(hist)"
   ]
  },
  {
   "cell_type": "code",
   "execution_count": 3,
   "metadata": {},
   "outputs": [],
   "source": [
    "states = ['a', 'b', 'c', 'd']\n",
    "actions = [1, 2, 3, 4]\n",
    "rewards = [0, 1, 0, -1]\n",
    "next_states = ['b', 'c', 'd', 'e']\n",
    "is_terminals = [False, False, False, True]"
   ]
  },
  {
   "cell_type": "markdown",
   "metadata": {},
   "source": [
    "### Test the plain experience buffer."
   ]
  },
  {
   "cell_type": "code",
   "execution_count": 4,
   "metadata": {},
   "outputs": [
    {
     "name": "stdout",
     "output_type": "stream",
     "text": [
      "['b', 2, 1, 'c', True] : 338\n",
      "['d', 4, -1, 'e', False] : 272\n",
      "['c', 3, 0, 'd', True] : 290\n"
     ]
    }
   ],
   "source": [
    "ebuf = ExpBuf(3)  # keep small since lots of hand written stuff.\n",
    "for s, a, r, ns, it in zip(states, actions, rewards, next_states, is_terminals):\n",
    "    ebuf.append(s, a, r, ns, it)\n",
    "    \n",
    "eles = list()\n",
    "for i in range(900):\n",
    "    eles.append(ebuf.sample(1))\n",
    "    \n",
    "hist = make_hist(eles, lambda exp: str([e[0] for e in exp]))\n",
    "\n",
    "exp_keys = {\"['b', 2, 1, 'c', True]\",\n",
    "            \"['c', 3, 0, 'd', True]\",\n",
    "            \"['d', 4, -1, 'e', False]\"}\n",
    "assert set(hist.keys()) == exp_keys, \\\n",
    "    'Unexpected experiences in sample ' + str(hist.keys())\n",
    "\n",
    "for k, count in hist.items():\n",
    "    kv_str = k + \" : \" + str(count)\n",
    "    assert abs(count - 300) < 50, \"Non uniform sampling: \" + kv_str\n",
    "    print(kv_str)"
   ]
  },
  {
   "cell_type": "markdown",
   "metadata": {},
   "source": [
    "### Weighted Experience Buffer"
   ]
  },
  {
   "cell_type": "code",
   "execution_count": 5,
   "metadata": {},
   "outputs": [
    {
     "name": "stdout",
     "output_type": "stream",
     "text": [
      "{'c': 123, 'd': 877}\n"
     ]
    }
   ],
   "source": [
    "wbuf = WeightedExpBuf(3)  # keep small since lots of hand written stuff.\n",
    "for s, a, r, ns, it in zip(states, actions, rewards, next_states, is_terminals):\n",
    "    wbuf.append(s, a, r, ns, it)\n",
    "    \n",
    "weights = [0, .5, 3.4]  # b, c, d\n",
    "wbuf.update_weights([1, 2, 3], weights)  # indices wrap around for ring\n",
    "net_weight = sum(weights)\n",
    "\n",
    "eles = list()\n",
    "for i in range(1000):\n",
    "    eles.append(wbuf.sample(1))\n",
    "hist = make_hist(eles, lambda exp: exp[1][0])  # Use the state as hash\n",
    "\n",
    "assert set(hist.keys()) == {'c', 'd'}, str(hist.keys())\n",
    "assert abs(hist['c']/1000 - .5/net_weight) < .1, \\\n",
    "    'Improper sampling: ' + str(hist)\n",
    "assert abs(hist['d']/1000 - 3.4/net_weight) < .1, \\\n",
    "    'Improper sampling: ' + str(hist)\n",
    "print(hist)"
   ]
  },
  {
   "cell_type": "markdown",
   "metadata": {},
   "source": [
    "Change the weight of 'b' to be 1.3 and retest sampling "
   ]
  },
  {
   "cell_type": "code",
   "execution_count": 6,
   "metadata": {},
   "outputs": [
    {
     "name": "stdout",
     "output_type": "stream",
     "text": [
      "{'c': 105, 'b': 234, 'd': 661}\n"
     ]
    }
   ],
   "source": [
    "wbuf.update_weights([1], [1.3]) # b's weight goes from 0 ==> 1.3\n",
    "net_weight += 1.3\n",
    "\n",
    "eles = list()\n",
    "for i in range(1000):\n",
    "    eles.append(wbuf.sample(1))\n",
    "hist = make_hist(eles, lambda exp: exp[1][0])  # Use the state as hash\n",
    "\n",
    "assert set(hist.keys()) == {'b', 'c', 'd'}, str(hist.keys())\n",
    "assert abs(hist['b']/1000 - 1.3/net_weight) < .1, \\\n",
    "    'Improper sampling: ' + str(hist)\n",
    "assert abs(hist['c']/1000 - .5/net_weight) < .1, \\\n",
    "    'Improper sampling: ' + str(hist)\n",
    "assert abs(hist['d']/1000 - 3.4/net_weight) < .1, \\\n",
    "    'Improper sampling: ' + str(hist)\n",
    "print(hist)"
   ]
  },
  {
   "cell_type": "code",
   "execution_count": null,
   "metadata": {},
   "outputs": [],
   "source": []
  }
 ],
 "metadata": {
  "kernelspec": {
   "display_name": "Python 3",
   "language": "python",
   "name": "python3"
  },
  "language_info": {
   "codemirror_mode": {
    "name": "ipython",
    "version": 3
   },
   "file_extension": ".py",
   "mimetype": "text/x-python",
   "name": "python",
   "nbconvert_exporter": "python",
   "pygments_lexer": "ipython3",
   "version": "3.5.2"
  }
 },
 "nbformat": 4,
 "nbformat_minor": 2
}
