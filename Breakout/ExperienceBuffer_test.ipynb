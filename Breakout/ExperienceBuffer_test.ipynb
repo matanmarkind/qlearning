{
 "cells": [
  {
   "cell_type": "code",
   "execution_count": 11,
   "metadata": {},
   "outputs": [],
   "source": [
    "import numpy as np\n",
    "from collections import defaultdict\n",
    "from random import sample\n",
    "from ExperienceBuffer import RingBuf, WeightedRingBuf"
   ]
  },
  {
   "cell_type": "code",
   "execution_count": 12,
   "metadata": {},
   "outputs": [],
   "source": [
    "def simple_hist(iterable):\n",
    "    hist = defaultdict(int)\n",
    "    for i in iterable:\n",
    "        hist[i] += 1\n",
    "    return dict(hist)"
   ]
  },
  {
   "cell_type": "code",
   "execution_count": 13,
   "metadata": {},
   "outputs": [
    {
     "data": {
      "text/plain": [
       "['d', 'b', 'c', 'd']"
      ]
     },
     "execution_count": 13,
     "metadata": {},
     "output_type": "execute_result"
    }
   ],
   "source": [
    "rbuf = RingBuf(3)\n",
    "rbuf.append('a')\n",
    "rbuf.append('b')\n",
    "rbuf.append('c')\n",
    "rbuf.append('d')\n",
    "rbuf[[0, 1, 2, 3]]"
   ]
  },
  {
   "cell_type": "code",
   "execution_count": 14,
   "metadata": {},
   "outputs": [
    {
     "data": {
      "text/plain": [
       "{'b': 325, 'c': 282, 'd': 293}"
      ]
     },
     "execution_count": 14,
     "metadata": {},
     "output_type": "execute_result"
    }
   ],
   "source": [
    "# 'a' should never appear since it should be overwritten.\n",
    "# All others should be around 300 since sampling is uniform\n",
    "eles = list()\n",
    "for i in range(900):\n",
    "    eles += rbuf.sample(1)\n",
    "simple_hist(eles)"
   ]
  },
  {
   "cell_type": "code",
   "execution_count": 15,
   "metadata": {},
   "outputs": [],
   "source": [
    "class W():\n",
    "    def __init__(self, weight, name):\n",
    "        self.weight = weight\n",
    "        self.name = name\n",
    "    def __str__(self):\n",
    "        return 'weight=' + str(self.weight) + ' name=' + str(self.name)"
   ]
  },
  {
   "cell_type": "code",
   "execution_count": 17,
   "metadata": {},
   "outputs": [
    {
     "name": "stdout",
     "output_type": "stream",
     "text": [
      "[array([11.]), array([10.,  1.]), <ExperienceBuffer.RingBuf object at 0x7f82442f1ac8>]\n"
     ]
    },
    {
     "data": {
      "text/plain": [
       "['weight=10 name=d', 'weight=0 name=b', 'weight=1 name=c', 'weight=10 name=d']"
      ]
     },
     "execution_count": 17,
     "metadata": {},
     "output_type": "execute_result"
    }
   ],
   "source": [
    "wbuf = WeightedRingBuf(3)\n",
    "wbuf.append(W(10, 'a'))\n",
    "wbuf.append(W(0, 'b'))\n",
    "wbuf.append(W(1, 'c'))\n",
    "wbuf.append(W(10, 'd'))\n",
    "print(wbuf.tree)\n",
    "[str(w) for w in wbuf[[0, 1, 2, 3]]]"
   ]
  },
  {
   "cell_type": "code",
   "execution_count": 18,
   "metadata": {},
   "outputs": [
    {
     "data": {
      "text/plain": [
       "{'c': 93, 'd': 1007}"
      ]
     },
     "execution_count": 18,
     "metadata": {},
     "output_type": "execute_result"
    }
   ],
   "source": [
    "# 'a' should never appear since it should be overwritten.\n",
    "# All others should appear in proportion to their weights (d ~ 1000, c ~ 100)\n",
    "ids = list()\n",
    "for i in range(1100):\n",
    "    ids += wbuf.sample(1)\n",
    "simple_hist([w.name for w in wbuf[ids]])"
   ]
  },
  {
   "cell_type": "code",
   "execution_count": 19,
   "metadata": {},
   "outputs": [
    {
     "name": "stdout",
     "output_type": "stream",
     "text": [
      "[array([4.]), array([3., 1.]), <ExperienceBuffer.RingBuf object at 0x7f82442f1ac8>]\n"
     ]
    },
    {
     "data": {
      "text/plain": [
       "['weight=3 name=d', 'weight=0 name=b', 'weight=1 name=c', 'weight=3 name=d']"
      ]
     },
     "execution_count": 19,
     "metadata": {},
     "output_type": "execute_result"
    }
   ],
   "source": [
    "wbuf.update_weight(0, 3)\n",
    "print(wbuf.tree)\n",
    "[str(w) for w in wbuf[[0, 1, 2, 3]]]"
   ]
  },
  {
   "cell_type": "code",
   "execution_count": 20,
   "metadata": {},
   "outputs": [
    {
     "data": {
      "text/plain": [
       "{'c': 94, 'd': 306}"
      ]
     },
     "execution_count": 20,
     "metadata": {},
     "output_type": "execute_result"
    }
   ],
   "source": [
    "# d ~ 300 c ~ 100\n",
    "ids = list()\n",
    "for i in range(400):\n",
    "    ids += wbuf.sample(1)\n",
    "simple_hist([w.name for w in wbuf[ids]])"
   ]
  },
  {
   "cell_type": "code",
   "execution_count": null,
   "metadata": {},
   "outputs": [],
   "source": []
  }
 ],
 "metadata": {
  "kernelspec": {
   "display_name": "Python 3",
   "language": "python",
   "name": "python3"
  },
  "language_info": {
   "codemirror_mode": {
    "name": "ipython",
    "version": 3
   },
   "file_extension": ".py",
   "mimetype": "text/x-python",
   "name": "python",
   "nbconvert_exporter": "python",
   "pygments_lexer": "ipython3",
   "version": "3.5.2"
  }
 },
 "nbformat": 4,
 "nbformat_minor": 2
}
